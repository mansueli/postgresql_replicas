{
  "nbformat": 4,
  "nbformat_minor": 0,
  "metadata": {
    "colab": {
      "provenance": [],
      "authorship_tag": "ABX9TyPH7+D2TiE0WAW1S50NsGm3",
      "include_colab_link": true
    },
    "kernelspec": {
      "name": "python3",
      "display_name": "Python 3"
    },
    "language_info": {
      "name": "python"
    }
  },
  "cells": [
    {
      "cell_type": "markdown",
      "metadata": {
        "id": "view-in-github",
        "colab_type": "text"
      },
      "source": [
        "<a href=\"https://colab.research.google.com/github/mansueli/postgresql_replicas/blob/main/Create_Supabase_replica.ipynb\" target=\"_parent\"><img src=\"https://colab.research.google.com/assets/colab-badge.svg\" alt=\"Open In Colab\"/></a>"
      ]
    },
    {
      "cell_type": "markdown",
      "source": [
        "# Installing PSQL & Downloading the script"
      ],
      "metadata": {
        "id": "4irD2UJuv-Gj"
      }
    },
    {
      "cell_type": "code",
      "execution_count": null,
      "metadata": {
        "id": "PAC0gBi3vybk"
      },
      "outputs": [],
      "source": [
        "!sudo sh -c 'echo \"deb http://apt.postgresql.org/pub/repos/apt $(lsb_release -cs)-pgdg main\" > /etc/apt/sources.list.d/pgdg.list'\n",
        "!wget --quiet -O - https://www.postgresql.org/media/keys/ACCC4CF8.asc | sudo apt-key add -\n",
        "!sudo apt-get update &>log\n",
        "!sudo apt-get -y install postgresql &>log\n",
        "!wget https://raw.githubusercontent.com/mansueli/postgresql_replicas/main/create_replication.sh &>log"
      ]
    },
    {
      "cell_type": "markdown",
      "source": [
        "## Setting the Environment"
      ],
      "metadata": {
        "id": "lVVGpcXdwZ2M"
      }
    },
    {
      "cell_type": "code",
      "source": [
        "ORIGINAL_DB_URL='db.original_project_ref.supabase.co'\n",
        "REPLICA_DB_URL='db.replica_project_ref.supabase.co'\n",
        "ORIGINAL_DB_PASS='secret_password_here'\n",
        "REPLICA_DB_PASS='secret_new_password_here'"
      ],
      "metadata": {
        "id": "VdLswVsawD_m"
      },
      "execution_count": null,
      "outputs": []
    },
    {
      "cell_type": "markdown",
      "source": [
        "## Creating the replication & Subscribing to it: \n",
        "(After updateing the script with the new env variables)"
      ],
      "metadata": {
        "id": "EpXCPGqnwr-N"
      }
    },
    {
      "cell_type": "code",
      "source": [
        "filedata = ''\n",
        "with open('create_replication.sh', 'r') as file :\n",
        "  filedata = file.read()\n",
        "  filedata = filedata.replace('db.original_project_ref.supabase.co', ORIGINAL_DB_URL)\n",
        "  filedata = filedata.replace('db.replica_project_ref.supabase.co', REPLICA_DB_URL)\n",
        "  filedata = filedata.replace('secret_password_here', ORIGINAL_DB_PASS)\n",
        "  filedata = filedata.replace('secret_new_password_here', REPLICA_DB_PASS)\n",
        "\n",
        "with open('create_replication.sh', 'w') as file:\n",
        "  file.write(filedata)\n",
        "\n",
        "!bash ./create_replication.sh"
      ],
      "metadata": {
        "id": "LRvhEM7Twrjy"
      },
      "execution_count": null,
      "outputs": []
    },
    {
      "cell_type": "markdown",
      "source": [],
      "metadata": {
        "id": "uYLiRVInxaKg"
      }
    }
  ]
}