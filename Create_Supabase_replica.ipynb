{
  "nbformat": 4,
  "nbformat_minor": 0,
  "metadata": {
    "colab": {
      "provenance": [],
      "authorship_tag": "ABX9TyOcd06BQLZGVRQpNF4CjaEl",
      "include_colab_link": true
    },
    "kernelspec": {
      "name": "python3",
      "display_name": "Python 3"
    },
    "language_info": {
      "name": "python"
    }
  },
  "cells": [
    {
      "cell_type": "markdown",
      "metadata": {
        "id": "view-in-github",
        "colab_type": "text"
      },
      "source": [
        "<a href=\"https://colab.research.google.com/github/mansueli/postgresql_replicas/blob/main/Create_Supabase_replica.ipynb\" target=\"_parent\"><img src=\"https://colab.research.google.com/assets/colab-badge.svg\" alt=\"Open In Colab\"/></a>"
      ]
    },
    {
      "cell_type": "markdown",
      "source": [
        "# Installing PSQL & Downloading the script"
      ],
      "metadata": {
        "id": "4irD2UJuv-Gj"
      }
    },
    {
      "cell_type": "code",
      "execution_count": null,
      "metadata": {
        "colab": {
          "base_uri": "https://localhost:8080/"
        },
        "id": "PAC0gBi3vybk",
        "outputId": "17188c04-d91c-4a9a-a17a-8c4b3e7115aa"
      },
      "outputs": [
        {
          "output_type": "stream",
          "name": "stdout",
          "text": [
            "OK\n"
          ]
        }
      ],
      "source": [
        "!sudo sh -c 'echo \"deb http://apt.postgresql.org/pub/repos/apt $(lsb_release -cs)-pgdg main\" > /etc/apt/sources.list.d/pgdg.list'\n",
        "!wget --quiet -O - https://www.postgresql.org/media/keys/ACCC4CF8.asc | sudo apt-key add -\n",
        "!sudo apt-get update &>log\n",
        "!sudo apt-get -y install postgresql &>log\n",
        "!wget https://raw.githubusercontent.com/mansueli/postgresql_replicas/main/create_replication.sh &>log"
      ]
    },
    {
      "cell_type": "markdown",
      "source": [
        "## Setting the Environment"
      ],
      "metadata": {
        "id": "lVVGpcXdwZ2M"
      }
    },
    {
      "cell_type": "code",
      "source": [
        "ORIGINAL_DB_URL='db.jpzwvyukydqlzwgvncyj.supabase.co'\n",
        "REPLICA_DB_URL='db.pvqfwiqrtrpnqiuevbei.supabase.co'\n",
        "ORIGINAL_DB_PASS='QP8jkyr#9S24@W#'\n",
        "REPLICA_DB_PASS='QP8jkyr#9S24@W#'"
      ],
      "metadata": {
        "id": "VdLswVsawD_m"
      },
      "execution_count": null,
      "outputs": []
    },
    {
      "cell_type": "markdown",
      "source": [
        "## Creating the replication & Subscribing to it: \n",
        "(After updateing the script with the new env variables)"
      ],
      "metadata": {
        "id": "EpXCPGqnwr-N"
      }
    },
    {
      "cell_type": "code",
      "source": [
        "filedata = ''\n",
        "with open('create_replication.sh', 'r') as file :\n",
        "  filedata = file.read()\n",
        "  filedata = filedata.replace('db.original_project_ref.supabase.co', ORIGINAL_DB_URL)\n",
        "  filedata = filedata.replace('db.replica_project_ref.supabase.co', REPLICA_DB_URL)\n",
        "  filedata = filedata.replace('secret_password_here', ORIGINAL_DB_PASS)\n",
        "  filedata = filedata.replace('secret_new_password_here', REPLICA_DB_PASS)\n",
        "\n",
        "with open('create_replication.sh', 'w') as file:\n",
        "  file.write(filedata)\n",
        "\n",
        "!bash ./create_replication.sh"
      ],
      "metadata": {
        "colab": {
          "base_uri": "https://localhost:8080/"
        },
        "id": "LRvhEM7Twrjy",
        "outputId": "4049a9b9-f9d6-4c28-9d13-83b31a5e0fd8"
      },
      "execution_count": null,
      "outputs": [
        {
          "output_type": "stream",
          "name": "stdout",
          "text": [
            "SET\n",
            "SET\n",
            "SET\n",
            "SET\n",
            "SET\n",
            " set_config \n",
            "------------\n",
            " \n",
            "(1 row)\n",
            "\n",
            "SET\n",
            "SET\n",
            "SET\n",
            "SET\n",
            "ALTER TABLE\n",
            "ALTER TABLE\n",
            "ALTER TABLE\n",
            "ALTER TABLE\n",
            "ALTER TABLE\n",
            "ALTER TABLE\n",
            "ALTER TABLE\n",
            "ALTER TABLE\n",
            "ALTER TABLE\n",
            "ALTER TABLE\n",
            "DROP INDEX\n",
            "DROP INDEX\n",
            "DROP INDEX\n",
            "DROP INDEX\n",
            "DROP INDEX\n",
            "DROP INDEX\n",
            "DROP INDEX\n",
            "DROP INDEX\n",
            "DROP INDEX\n",
            "DROP INDEX\n",
            "DROP INDEX\n",
            "DROP INDEX\n",
            "DROP INDEX\n",
            "DROP INDEX\n",
            "DROP INDEX\n",
            "DROP INDEX\n",
            "DROP INDEX\n",
            "DROP INDEX\n",
            "DROP INDEX\n",
            "DROP INDEX\n",
            "DROP INDEX\n",
            "DROP INDEX\n",
            "DROP INDEX\n",
            "DROP INDEX\n",
            "DROP INDEX\n",
            "DROP INDEX\n",
            "DROP INDEX\n",
            "DROP INDEX\n",
            "ALTER TABLE\n",
            "ALTER TABLE\n",
            "ALTER TABLE\n",
            "ALTER TABLE\n",
            "ALTER TABLE\n",
            "ALTER TABLE\n",
            "psql:dump.sql:63: ERROR:  must be owner of table assets\n",
            "cat: yourdomainlist: No such file or directory\n",
            "Password for user postgres: \n",
            "psql: error: connection to server at \"db.jpzwvyukydqlzwgvncyj.supabase.co\" (54.217.95.179), port 6543 failed: fe_sendauth: no password supplied\n",
            "ERROR:  must be superuser to create subscriptions\n"
          ]
        }
      ]
    },
    {
      "cell_type": "markdown",
      "source": [],
      "metadata": {
        "id": "uYLiRVInxaKg"
      }
    }
  ]
}